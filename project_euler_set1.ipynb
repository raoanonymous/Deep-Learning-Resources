{
  "nbformat": 4,
  "nbformat_minor": 0,
  "metadata": {
    "colab": {
      "name": "project_euler_set1",
      "version": "0.3.2",
      "provenance": [],
      "machine_shape": "hm",
      "include_colab_link": true
    },
    "kernelspec": {
      "name": "python3",
      "display_name": "Python 3"
    },
    "accelerator": "GPU"
  },
  "cells": [
    {
      "cell_type": "markdown",
      "metadata": {
        "id": "view-in-github",
        "colab_type": "text"
      },
      "source": [
        "<a href=\"https://colab.research.google.com/github/raoanonymous/Deep-Learning-Resources/blob/master/project_euler_set1.ipynb\" target=\"_parent\"><img src=\"https://colab.research.google.com/assets/colab-badge.svg\" alt=\"Open In Colab\"/></a>"
      ]
    },
    {
      "cell_type": "markdown",
      "metadata": {
        "id": "jX70z203qcYi",
        "colab_type": "text"
      },
      "source": [
        "2) Even Fibonacci numbers"
      ]
    },
    {
      "cell_type": "code",
      "metadata": {
        "id": "Q0lZ8b7HpZ0r",
        "colab_type": "code",
        "colab": {
          "base_uri": "https://localhost:8080/",
          "height": 52
        },
        "outputId": "ff99c3c8-e253-48a9-e3b0-0264078c809a"
      },
      "source": [
        "import time\n",
        "\n",
        "def fib_recur_n(n):\n",
        "    \"\"\"\n",
        "    Recursive slowest!\n",
        "    \"\"\"\n",
        "    if n>1:\n",
        "        #print(fibn(n-1)+fibn(n-2))\n",
        "        return (fib_recur_n(n-1)+fib_recur_n(n-2))\n",
        "    else:\n",
        "        #print(1)\n",
        "        return 1\n",
        "\n",
        "def fib_n(a,b,n):\n",
        "    \"\"\"\n",
        "    Without recursion, faster!\n",
        "    \"\"\"\n",
        "    seq = list()\n",
        "    while(n-2):\n",
        "        c = a+b\n",
        "        a = b\n",
        "        b = c\n",
        "        n = n-1\n",
        "        seq.append(c)\n",
        "    return seq  \n",
        "\n",
        "def fib_lim(a,b,limit):\n",
        "    \"\"\"\n",
        "    Generation of seq with upper limit\n",
        "    \"\"\"\n",
        "    seq = list()\n",
        "    seq.append(1)\n",
        "    seq.append(2)\n",
        "    c = 0\n",
        "    while(c<limit):\n",
        "        c = a+b\n",
        "        a = b\n",
        "        b = c\n",
        "        seq.append(c)\n",
        "    return seq       \n",
        "\n",
        "start = time.process_time()\n",
        "fib_seq = fib_lim(1,2,4e6)\n",
        "print(\"Time Taken: \",time.process_time() - start)\n",
        "sum([l if l%2==0 else 0 for l in fib_seq[:-1]])"
      ],
      "execution_count": 29,
      "outputs": [
        {
          "output_type": "stream",
          "text": [
            "Time Taken:  4.3525000000155245e-05\n"
          ],
          "name": "stdout"
        },
        {
          "output_type": "execute_result",
          "data": {
            "text/plain": [
              "4613732"
            ]
          },
          "metadata": {
            "tags": []
          },
          "execution_count": 29
        }
      ]
    },
    {
      "cell_type": "markdown",
      "metadata": {
        "id": "DcuQkADBDGlu",
        "colab_type": "text"
      },
      "source": [
        "3) Largest prime factor"
      ]
    },
    {
      "cell_type": "code",
      "metadata": {
        "id": "PrjrkkKsun5k",
        "colab_type": "code",
        "colab": {
          "base_uri": "https://localhost:8080/",
          "height": 52
        },
        "outputId": "b03b9ad0-984b-4555-8f8d-0124524606a7"
      },
      "source": [
        ""
      ],
      "execution_count": 27,
      "outputs": [
        {
          "output_type": "stream",
          "text": [
            "9.740299999982938e-05\n"
          ],
          "name": "stdout"
        },
        {
          "output_type": "execute_result",
          "data": {
            "text/plain": [
              "4613732"
            ]
          },
          "metadata": {
            "tags": []
          },
          "execution_count": 27
        }
      ]
    },
    {
      "cell_type": "code",
      "metadata": {
        "id": "VbwWZ3sq6v3t",
        "colab_type": "code",
        "colab": {}
      },
      "source": [
        ""
      ],
      "execution_count": 0,
      "outputs": []
    }
  ]
}